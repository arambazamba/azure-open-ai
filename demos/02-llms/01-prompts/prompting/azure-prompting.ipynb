{
 "cells": [
  {
   "cell_type": "markdown",
   "metadata": {},
   "source": [
    "# Setup Environment Variables\n",
    "Set up the environment variables for the Azure OpenAI endpoint and API key."
   ]
  },
  {
   "cell_type": "code",
   "execution_count": 14,
   "metadata": {},
   "outputs": [
    {
     "name": "stdout",
     "output_type": "stream",
     "text": [
      "https://ai-training-dev826312122475.openai.azure.com/\n"
     ]
    }
   ],
   "source": [
    "# Import the os module\n",
    "import json\n",
    "\n",
    "with open('config.json') as config_file:\n",
    "    config = json.load(config_file)\n",
    "\n",
    "    endpoint = config[\"AZURE_OPENAI_ENDPOINT\"]\n",
    "    key = config[\"AZURE_OPENAI_API_KEY\"]\n",
    "    deployment = config[\"AZURE_DEPLOYMENT\"]\n",
    "    version = config[\"API_VERSION\"]\n",
    "\n",
    "    print(endpoint)    "
   ]
  },
  {
   "cell_type": "markdown",
   "metadata": {},
   "source": [
    "# Initialize AzureOpenAI Client\n",
    "Initialize the AzureOpenAI client with the endpoint, API key, and API version."
   ]
  },
  {
   "cell_type": "code",
   "execution_count": 15,
   "metadata": {},
   "outputs": [
    {
     "name": "stdout",
     "output_type": "stream",
     "text": [
      "This is a test.\n"
     ]
    }
   ],
   "source": [
    "# Import the AzureOpenAI module\n",
    "from openai import AzureOpenAI\n",
    "\n",
    "# Initialize the AzureOpenAI client\n",
    "client = AzureOpenAI(\n",
    "  azure_endpoint = endpoint, \n",
    "  api_key=key,\n",
    "  api_version=version\n",
    ")\n",
    "\n",
    "# Hello world test\n",
    "chat_completion = client.chat.completions.create(\n",
    "    messages=[\n",
    "        {\n",
    "            \"role\": \"user\",\n",
    "            \"content\": \"Say this is a test\",\n",
    "        }\n",
    "    ],\n",
    "    model=deployment,\n",
    ")\n",
    "\n",
    "print(chat_completion.choices[0].message.content) "
   ]
  },
  {
   "cell_type": "markdown",
   "metadata": {},
   "source": [
    "# Define a simple text to extract information from"
   ]
  },
  {
   "cell_type": "code",
   "execution_count": 16,
   "metadata": {},
   "outputs": [],
   "source": [
    "davidDescription = \"David is a sophomore majoring in computer science at Stanford University. He is Asian American and has a 3.8 GPA. David is known for his programming skills and is an active member of the university's Robotics Club. He hopes to pursue a career in artificial intelligence after graduating.\""
   ]
  },
  {
   "cell_type": "markdown",
   "metadata": {},
   "source": [
    "## Define a prompt that contains the information on what to do"
   ]
  },
  {
   "cell_type": "code",
   "execution_count": 17,
   "metadata": {},
   "outputs": [],
   "source": [
    "# A simple prompt to extract information from \"student_description\" in a JSON format.\n",
    "davidPrompt = f'''\n",
    "Please extract the following information from the given text and return it as a JSON object:\n",
    "\n",
    "name\n",
    "major\n",
    "school\n",
    "grades\n",
    "race\n",
    "\n",
    "This is the body of text to extract the information from:\n",
    "{davidDescription}\n",
    "'''"
   ]
  },
  {
   "cell_type": "markdown",
   "metadata": {},
   "source": [
    "## Call the chat api"
   ]
  },
  {
   "cell_type": "code",
   "execution_count": 18,
   "metadata": {},
   "outputs": [
    {
     "name": "stdout",
     "output_type": "stream",
     "text": [
      "{\n",
      "  \"name\": \"David\",\n",
      "  \"major\": \"computer science\",\n",
      "  \"school\": \"Stanford University\",\n",
      "  \"grades\": 3.8,\n",
      "  \"race\": \"Asian American\"\n",
      "}\n"
     ]
    }
   ],
   "source": [
    "# Generating response back from gpt-3.5-turbo\n",
    "openai_response = client.chat.completions.create(\n",
    "    messages = [{'role': 'user', 'content': davidPrompt}],\n",
    "    model=deployment\n",
    ")\n",
    "\n",
    "print(openai_response.choices[0].message.content)"
   ]
  },
  {
   "cell_type": "markdown",
   "metadata": {},
   "source": [
    "# Try another student"
   ]
  },
  {
   "cell_type": "code",
   "execution_count": 29,
   "metadata": {},
   "outputs": [],
   "source": [
    "mikeDescription=\"Mike Patel is a sophomore majoring in computer science at the University of Michigan. He is South Asian Indian American and has a 3.7 GPA. Mike is an active member of the university's Chess Club and the Rifle Association. He hopes to pursue a career in software engineering after graduating.\"\n",
    "\n",
    "mikePrompt = f'''\n",
    "Please extract the following information from the given text and return it as a JSON object:\n",
    "\n",
    "name\n",
    "major\n",
    "school\n",
    "grades\n",
    "club\n",
    "\n",
    "This is the body of text to extract the information from:\n",
    "{mikeDescription}\n",
    "'''"
   ]
  },
  {
   "cell_type": "code",
   "execution_count": 30,
   "metadata": {},
   "outputs": [
    {
     "name": "stdout",
     "output_type": "stream",
     "text": [
      "['Chess Club', 'Rifle Association']\n"
     ]
    }
   ],
   "source": [
    "# Generating response back from gpt-3.5-turbo\n",
    "openai_response = client.chat.completions.create(\n",
    "    model = deployment,\n",
    "    messages = [{'role': 'user', 'content': mikePrompt}]\n",
    ")\n",
    "\n",
    "# Loading the response as a JSON object\n",
    "mike_response = json.loads(openai_response.choices[0].message.content)\n",
    "\n",
    "print(mike_response['club'])"
   ]
  },
  {
   "cell_type": "markdown",
   "metadata": {},
   "source": [
    "# Add a simple function to extract the data from the response\n",
    "\n",
    "In order to do so you must define metadata that will be used to extract the information from the response."
   ]
  },
  {
   "cell_type": "code",
   "execution_count": 31,
   "metadata": {},
   "outputs": [],
   "source": [
    "extract_student_info = [\n",
    "    {\n",
    "        'name': 'extract_student_info',\n",
    "        'description': 'Get the student information from the body of the input text',\n",
    "        'parameters': {\n",
    "            'type': 'object',\n",
    "            'properties': {\n",
    "                'name': {\n",
    "                    'type': 'string',\n",
    "                    'description': 'Name of the person'\n",
    "                },\n",
    "                'major': {\n",
    "                    'type': 'string',\n",
    "                    'description': 'Major subject.'\n",
    "                },\n",
    "                'school': {\n",
    "                    'type': 'string',\n",
    "                    'description': 'The university name.'\n",
    "                },\n",
    "                'grades': {\n",
    "                    'type': 'integer',\n",
    "                    'description': 'GPA of the student.'\n",
    "                },\n",
    "                'club': {\n",
    "                    'type': 'string',\n",
    "                    'description': 'School club for extracurricular activities. '\n",
    "                }\n",
    "                \n",
    "            }\n",
    "        }\n",
    "    }\n",
    "]"
   ]
  },
  {
   "cell_type": "markdown",
   "metadata": {},
   "source": [
    "# Use the function to extract the data from the response"
   ]
  },
  {
   "cell_type": "code",
   "execution_count": 32,
   "metadata": {},
   "outputs": [
    {
     "name": "stdout",
     "output_type": "stream",
     "text": [
      "{'name': 'David', 'major': 'computer science', 'school': 'Stanford University', 'grades': 3.8, 'club': 'Robotics Club'}\n",
      "{'name': 'Mike Patel', 'major': 'Computer Science', 'school': 'University of Michigan', 'grades': 3.7, 'club': 'Chess Club'}\n"
     ]
    }
   ],
   "source": [
    "students = [davidDescription,mikeDescription]\n",
    "for i in students:\n",
    "    response = client.chat.completions.create(\n",
    "        model = deployment,\n",
    "        messages = [{'role': 'user', 'content': i}],\n",
    "        functions = extract_student_info,\n",
    "        function_call = 'auto'\n",
    "    )\n",
    "\n",
    "    # Loading the response as a JSON object\n",
    "    json_response = json.loads(response.choices[0].message.function_call.arguments)\n",
    "    print(json_response)"
   ]
  }
 ],
 "metadata": {
  "kernelspec": {
   "display_name": ".venv",
   "language": "python",
   "name": "python3"
  },
  "language_info": {
   "codemirror_mode": {
    "name": "ipython",
    "version": 3
   },
   "file_extension": ".py",
   "mimetype": "text/x-python",
   "name": "python",
   "nbconvert_exporter": "python",
   "pygments_lexer": "ipython3",
   "version": "3.11.0"
  }
 },
 "nbformat": 4,
 "nbformat_minor": 2
}
